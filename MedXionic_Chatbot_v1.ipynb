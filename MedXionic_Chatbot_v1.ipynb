{
 "cells": [
  {
   "cell_type": "code",
   "execution_count": 1,
   "id": "46ffebde-46b8-41f3-ae1a-5932e4903dd5",
   "metadata": {},
   "outputs": [
    {
     "name": "stdout",
     "output_type": "stream",
     "text": [
      "Requirement already satisfied: langchain in c:\\users\\test\\anaconda3\\lib\\site-packages (0.3.10)\n",
      "Collecting langchain\n",
      "  Downloading langchain-0.3.13-py3-none-any.whl.metadata (7.1 kB)\n",
      "Requirement already satisfied: PyYAML>=5.3 in c:\\users\\test\\anaconda3\\lib\\site-packages (from langchain) (6.0.1)\n",
      "Requirement already satisfied: SQLAlchemy<3,>=1.4 in c:\\users\\test\\anaconda3\\lib\\site-packages (from langchain) (2.0.25)\n",
      "Requirement already satisfied: aiohttp<4.0.0,>=3.8.3 in c:\\users\\test\\anaconda3\\lib\\site-packages (from langchain) (3.9.3)\n",
      "Collecting langchain-core<0.4.0,>=0.3.26 (from langchain)\n",
      "  Downloading langchain_core-0.3.28-py3-none-any.whl.metadata (6.3 kB)\n",
      "Collecting langchain-text-splitters<0.4.0,>=0.3.3 (from langchain)\n",
      "  Downloading langchain_text_splitters-0.3.4-py3-none-any.whl.metadata (2.3 kB)\n",
      "Requirement already satisfied: langsmith<0.3,>=0.1.17 in c:\\users\\test\\anaconda3\\lib\\site-packages (from langchain) (0.1.147)\n",
      "Requirement already satisfied: numpy<2,>=1.22.4 in c:\\users\\test\\anaconda3\\lib\\site-packages (from langchain) (1.26.4)\n",
      "Requirement already satisfied: pydantic<3.0.0,>=2.7.4 in c:\\users\\test\\anaconda3\\lib\\site-packages (from langchain) (2.8.2)\n",
      "Requirement already satisfied: requests<3,>=2 in c:\\users\\test\\anaconda3\\lib\\site-packages (from langchain) (2.31.0)\n",
      "Requirement already satisfied: tenacity!=8.4.0,<10,>=8.1.0 in c:\\users\\test\\anaconda3\\lib\\site-packages (from langchain) (8.5.0)\n",
      "Requirement already satisfied: aiosignal>=1.1.2 in c:\\users\\test\\anaconda3\\lib\\site-packages (from aiohttp<4.0.0,>=3.8.3->langchain) (1.2.0)\n",
      "Requirement already satisfied: attrs>=17.3.0 in c:\\users\\test\\anaconda3\\lib\\site-packages (from aiohttp<4.0.0,>=3.8.3->langchain) (23.1.0)\n",
      "Requirement already satisfied: frozenlist>=1.1.1 in c:\\users\\test\\anaconda3\\lib\\site-packages (from aiohttp<4.0.0,>=3.8.3->langchain) (1.4.0)\n",
      "Requirement already satisfied: multidict<7.0,>=4.5 in c:\\users\\test\\anaconda3\\lib\\site-packages (from aiohttp<4.0.0,>=3.8.3->langchain) (6.0.4)\n",
      "Requirement already satisfied: yarl<2.0,>=1.0 in c:\\users\\test\\anaconda3\\lib\\site-packages (from aiohttp<4.0.0,>=3.8.3->langchain) (1.9.3)\n",
      "Requirement already satisfied: jsonpatch<2.0,>=1.33 in c:\\users\\test\\anaconda3\\lib\\site-packages (from langchain-core<0.4.0,>=0.3.26->langchain) (1.33)\n",
      "Requirement already satisfied: packaging<25,>=23.2 in c:\\users\\test\\anaconda3\\lib\\site-packages (from langchain-core<0.4.0,>=0.3.26->langchain) (24.2)\n",
      "Requirement already satisfied: typing-extensions>=4.7 in c:\\users\\test\\anaconda3\\lib\\site-packages (from langchain-core<0.4.0,>=0.3.26->langchain) (4.12.2)\n",
      "Requirement already satisfied: httpx<1,>=0.23.0 in c:\\users\\test\\anaconda3\\lib\\site-packages (from langsmith<0.3,>=0.1.17->langchain) (0.27.0)\n",
      "Requirement already satisfied: orjson<4.0.0,>=3.9.14 in c:\\users\\test\\anaconda3\\lib\\site-packages (from langsmith<0.3,>=0.1.17->langchain) (3.10.6)\n",
      "Requirement already satisfied: requests-toolbelt<2.0.0,>=1.0.0 in c:\\users\\test\\anaconda3\\lib\\site-packages (from langsmith<0.3,>=0.1.17->langchain) (1.0.0)\n",
      "Requirement already satisfied: annotated-types>=0.4.0 in c:\\users\\test\\anaconda3\\lib\\site-packages (from pydantic<3.0.0,>=2.7.4->langchain) (0.7.0)\n",
      "Requirement already satisfied: pydantic-core==2.20.1 in c:\\users\\test\\anaconda3\\lib\\site-packages (from pydantic<3.0.0,>=2.7.4->langchain) (2.20.1)\n",
      "Requirement already satisfied: charset-normalizer<4,>=2 in c:\\users\\test\\anaconda3\\lib\\site-packages (from requests<3,>=2->langchain) (2.0.4)\n",
      "Requirement already satisfied: idna<4,>=2.5 in c:\\users\\test\\anaconda3\\lib\\site-packages (from requests<3,>=2->langchain) (3.4)\n",
      "Requirement already satisfied: urllib3<3,>=1.21.1 in c:\\users\\test\\anaconda3\\lib\\site-packages (from requests<3,>=2->langchain) (2.0.7)\n",
      "Requirement already satisfied: certifi>=2017.4.17 in c:\\users\\test\\anaconda3\\lib\\site-packages (from requests<3,>=2->langchain) (2024.7.4)\n",
      "Requirement already satisfied: greenlet!=0.4.17 in c:\\users\\test\\anaconda3\\lib\\site-packages (from SQLAlchemy<3,>=1.4->langchain) (3.0.1)\n",
      "Requirement already satisfied: anyio in c:\\users\\test\\anaconda3\\lib\\site-packages (from httpx<1,>=0.23.0->langsmith<0.3,>=0.1.17->langchain) (4.2.0)\n",
      "Requirement already satisfied: httpcore==1.* in c:\\users\\test\\anaconda3\\lib\\site-packages (from httpx<1,>=0.23.0->langsmith<0.3,>=0.1.17->langchain) (1.0.5)\n",
      "Requirement already satisfied: sniffio in c:\\users\\test\\anaconda3\\lib\\site-packages (from httpx<1,>=0.23.0->langsmith<0.3,>=0.1.17->langchain) (1.3.0)\n",
      "Requirement already satisfied: h11<0.15,>=0.13 in c:\\users\\test\\anaconda3\\lib\\site-packages (from httpcore==1.*->httpx<1,>=0.23.0->langsmith<0.3,>=0.1.17->langchain) (0.14.0)\n",
      "Requirement already satisfied: jsonpointer>=1.9 in c:\\users\\test\\anaconda3\\lib\\site-packages (from jsonpatch<2.0,>=1.33->langchain-core<0.4.0,>=0.3.26->langchain) (2.1)\n",
      "Downloading langchain-0.3.13-py3-none-any.whl (1.0 MB)\n",
      "   ---------------------------------------- 0.0/1.0 MB ? eta -:--:--\n",
      "   ---- ----------------------------------- 0.1/1.0 MB 6.8 MB/s eta 0:00:01\n",
      "   ------------ --------------------------- 0.3/1.0 MB 5.0 MB/s eta 0:00:01\n",
      "   ----------------- ---------------------- 0.5/1.0 MB 4.0 MB/s eta 0:00:01\n",
      "   ------------------- -------------------- 0.5/1.0 MB 2.6 MB/s eta 0:00:01\n",
      "   ------------------------- -------------- 0.6/1.0 MB 2.7 MB/s eta 0:00:01\n",
      "   ------------------------------ --------- 0.8/1.0 MB 2.7 MB/s eta 0:00:01\n",
      "   ------------------------------------- -- 0.9/1.0 MB 2.8 MB/s eta 0:00:01\n",
      "   ---------------------------------------  1.0/1.0 MB 2.6 MB/s eta 0:00:01\n",
      "   ---------------------------------------  1.0/1.0 MB 2.6 MB/s eta 0:00:01\n",
      "   ---------------------------------------- 1.0/1.0 MB 2.2 MB/s eta 0:00:00\n",
      "Downloading langchain_core-0.3.28-py3-none-any.whl (411 kB)\n",
      "   ---------------------------------------- 0.0/411.6 kB ? eta -:--:--\n",
      "   -------------- ------------------------- 153.6/411.6 kB 3.1 MB/s eta 0:00:01\n",
      "   --------------------------- ------------ 286.7/411.6 kB 2.9 MB/s eta 0:00:01\n",
      "   ---------------------------------------  409.6/411.6 kB 2.8 MB/s eta 0:00:01\n",
      "   ---------------------------------------- 411.6/411.6 kB 2.1 MB/s eta 0:00:00\n",
      "Downloading langchain_text_splitters-0.3.4-py3-none-any.whl (27 kB)\n",
      "Installing collected packages: langchain-core, langchain-text-splitters, langchain\n",
      "  Attempting uninstall: langchain-core\n",
      "    Found existing installation: langchain-core 0.3.22\n",
      "    Uninstalling langchain-core-0.3.22:\n",
      "      Successfully uninstalled langchain-core-0.3.22\n",
      "  Attempting uninstall: langchain-text-splitters\n",
      "    Found existing installation: langchain-text-splitters 0.3.2\n",
      "    Uninstalling langchain-text-splitters-0.3.2:\n",
      "      Successfully uninstalled langchain-text-splitters-0.3.2\n",
      "  Attempting uninstall: langchain\n",
      "    Found existing installation: langchain 0.3.10\n",
      "    Uninstalling langchain-0.3.10:\n",
      "      Successfully uninstalled langchain-0.3.10\n",
      "Successfully installed langchain-0.3.13 langchain-core-0.3.28 langchain-text-splitters-0.3.4\n",
      "Requirement already satisfied: langchain_community in c:\\users\\test\\anaconda3\\lib\\site-packages (0.3.10)\n",
      "Collecting langchain_community\n",
      "  Downloading langchain_community-0.3.13-py3-none-any.whl.metadata (2.9 kB)\n",
      "Requirement already satisfied: PyYAML>=5.3 in c:\\users\\test\\anaconda3\\lib\\site-packages (from langchain_community) (6.0.1)\n",
      "Requirement already satisfied: SQLAlchemy<3,>=1.4 in c:\\users\\test\\anaconda3\\lib\\site-packages (from langchain_community) (2.0.25)\n",
      "Requirement already satisfied: aiohttp<4.0.0,>=3.8.3 in c:\\users\\test\\anaconda3\\lib\\site-packages (from langchain_community) (3.9.3)\n",
      "Requirement already satisfied: dataclasses-json<0.7,>=0.5.7 in c:\\users\\test\\anaconda3\\lib\\site-packages (from langchain_community) (0.6.7)\n",
      "Requirement already satisfied: httpx-sse<0.5.0,>=0.4.0 in c:\\users\\test\\anaconda3\\lib\\site-packages (from langchain_community) (0.4.0)\n",
      "Requirement already satisfied: langchain<0.4.0,>=0.3.13 in c:\\users\\test\\anaconda3\\lib\\site-packages (from langchain_community) (0.3.13)\n",
      "Requirement already satisfied: langchain-core<0.4.0,>=0.3.27 in c:\\users\\test\\anaconda3\\lib\\site-packages (from langchain_community) (0.3.28)\n",
      "Requirement already satisfied: langsmith<0.3,>=0.1.125 in c:\\users\\test\\anaconda3\\lib\\site-packages (from langchain_community) (0.1.147)\n",
      "Requirement already satisfied: numpy<2,>=1.22.4 in c:\\users\\test\\anaconda3\\lib\\site-packages (from langchain_community) (1.26.4)\n",
      "Requirement already satisfied: pydantic-settings<3.0.0,>=2.4.0 in c:\\users\\test\\anaconda3\\lib\\site-packages (from langchain_community) (2.6.1)\n",
      "Requirement already satisfied: requests<3,>=2 in c:\\users\\test\\anaconda3\\lib\\site-packages (from langchain_community) (2.31.0)\n",
      "Requirement already satisfied: tenacity!=8.4.0,<10,>=8.1.0 in c:\\users\\test\\anaconda3\\lib\\site-packages (from langchain_community) (8.5.0)\n",
      "Requirement already satisfied: aiosignal>=1.1.2 in c:\\users\\test\\anaconda3\\lib\\site-packages (from aiohttp<4.0.0,>=3.8.3->langchain_community) (1.2.0)\n",
      "Requirement already satisfied: attrs>=17.3.0 in c:\\users\\test\\anaconda3\\lib\\site-packages (from aiohttp<4.0.0,>=3.8.3->langchain_community) (23.1.0)\n",
      "Requirement already satisfied: frozenlist>=1.1.1 in c:\\users\\test\\anaconda3\\lib\\site-packages (from aiohttp<4.0.0,>=3.8.3->langchain_community) (1.4.0)\n",
      "Requirement already satisfied: multidict<7.0,>=4.5 in c:\\users\\test\\anaconda3\\lib\\site-packages (from aiohttp<4.0.0,>=3.8.3->langchain_community) (6.0.4)\n",
      "Requirement already satisfied: yarl<2.0,>=1.0 in c:\\users\\test\\anaconda3\\lib\\site-packages (from aiohttp<4.0.0,>=3.8.3->langchain_community) (1.9.3)\n",
      "Requirement already satisfied: marshmallow<4.0.0,>=3.18.0 in c:\\users\\test\\anaconda3\\lib\\site-packages (from dataclasses-json<0.7,>=0.5.7->langchain_community) (3.22.0)\n",
      "Requirement already satisfied: typing-inspect<1,>=0.4.0 in c:\\users\\test\\anaconda3\\lib\\site-packages (from dataclasses-json<0.7,>=0.5.7->langchain_community) (0.9.0)\n",
      "Requirement already satisfied: langchain-text-splitters<0.4.0,>=0.3.3 in c:\\users\\test\\anaconda3\\lib\\site-packages (from langchain<0.4.0,>=0.3.13->langchain_community) (0.3.4)\n",
      "Requirement already satisfied: pydantic<3.0.0,>=2.7.4 in c:\\users\\test\\anaconda3\\lib\\site-packages (from langchain<0.4.0,>=0.3.13->langchain_community) (2.8.2)\n",
      "Requirement already satisfied: jsonpatch<2.0,>=1.33 in c:\\users\\test\\anaconda3\\lib\\site-packages (from langchain-core<0.4.0,>=0.3.27->langchain_community) (1.33)\n",
      "Requirement already satisfied: packaging<25,>=23.2 in c:\\users\\test\\anaconda3\\lib\\site-packages (from langchain-core<0.4.0,>=0.3.27->langchain_community) (24.2)\n",
      "Requirement already satisfied: typing-extensions>=4.7 in c:\\users\\test\\anaconda3\\lib\\site-packages (from langchain-core<0.4.0,>=0.3.27->langchain_community) (4.12.2)\n",
      "Requirement already satisfied: httpx<1,>=0.23.0 in c:\\users\\test\\anaconda3\\lib\\site-packages (from langsmith<0.3,>=0.1.125->langchain_community) (0.27.0)\n",
      "Requirement already satisfied: orjson<4.0.0,>=3.9.14 in c:\\users\\test\\anaconda3\\lib\\site-packages (from langsmith<0.3,>=0.1.125->langchain_community) (3.10.6)\n",
      "Requirement already satisfied: requests-toolbelt<2.0.0,>=1.0.0 in c:\\users\\test\\anaconda3\\lib\\site-packages (from langsmith<0.3,>=0.1.125->langchain_community) (1.0.0)\n",
      "Requirement already satisfied: python-dotenv>=0.21.0 in c:\\users\\test\\anaconda3\\lib\\site-packages (from pydantic-settings<3.0.0,>=2.4.0->langchain_community) (0.21.0)\n",
      "Requirement already satisfied: charset-normalizer<4,>=2 in c:\\users\\test\\anaconda3\\lib\\site-packages (from requests<3,>=2->langchain_community) (2.0.4)\n",
      "Requirement already satisfied: idna<4,>=2.5 in c:\\users\\test\\anaconda3\\lib\\site-packages (from requests<3,>=2->langchain_community) (3.4)\n",
      "Requirement already satisfied: urllib3<3,>=1.21.1 in c:\\users\\test\\anaconda3\\lib\\site-packages (from requests<3,>=2->langchain_community) (2.0.7)\n",
      "Requirement already satisfied: certifi>=2017.4.17 in c:\\users\\test\\anaconda3\\lib\\site-packages (from requests<3,>=2->langchain_community) (2024.7.4)\n",
      "Requirement already satisfied: greenlet!=0.4.17 in c:\\users\\test\\anaconda3\\lib\\site-packages (from SQLAlchemy<3,>=1.4->langchain_community) (3.0.1)\n",
      "Requirement already satisfied: anyio in c:\\users\\test\\anaconda3\\lib\\site-packages (from httpx<1,>=0.23.0->langsmith<0.3,>=0.1.125->langchain_community) (4.2.0)\n",
      "Requirement already satisfied: httpcore==1.* in c:\\users\\test\\anaconda3\\lib\\site-packages (from httpx<1,>=0.23.0->langsmith<0.3,>=0.1.125->langchain_community) (1.0.5)\n",
      "Requirement already satisfied: sniffio in c:\\users\\test\\anaconda3\\lib\\site-packages (from httpx<1,>=0.23.0->langsmith<0.3,>=0.1.125->langchain_community) (1.3.0)\n",
      "Requirement already satisfied: h11<0.15,>=0.13 in c:\\users\\test\\anaconda3\\lib\\site-packages (from httpcore==1.*->httpx<1,>=0.23.0->langsmith<0.3,>=0.1.125->langchain_community) (0.14.0)\n",
      "Requirement already satisfied: jsonpointer>=1.9 in c:\\users\\test\\anaconda3\\lib\\site-packages (from jsonpatch<2.0,>=1.33->langchain-core<0.4.0,>=0.3.27->langchain_community) (2.1)\n",
      "Requirement already satisfied: annotated-types>=0.4.0 in c:\\users\\test\\anaconda3\\lib\\site-packages (from pydantic<3.0.0,>=2.7.4->langchain<0.4.0,>=0.3.13->langchain_community) (0.7.0)\n",
      "Requirement already satisfied: pydantic-core==2.20.1 in c:\\users\\test\\anaconda3\\lib\\site-packages (from pydantic<3.0.0,>=2.7.4->langchain<0.4.0,>=0.3.13->langchain_community) (2.20.1)\n",
      "Requirement already satisfied: mypy-extensions>=0.3.0 in c:\\users\\test\\anaconda3\\lib\\site-packages (from typing-inspect<1,>=0.4.0->dataclasses-json<0.7,>=0.5.7->langchain_community) (1.0.0)\n",
      "Downloading langchain_community-0.3.13-py3-none-any.whl (2.5 MB)\n",
      "   ---------------------------------------- 0.0/2.5 MB ? eta -:--:--\n",
      "   ---------------------------------------- 0.0/2.5 MB ? eta -:--:--\n",
      "   ---------------------------------------- 0.0/2.5 MB ? eta -:--:--\n",
      "   ---------------------------------------- 0.0/2.5 MB 259.2 kB/s eta 0:00:10\n",
      "   - -------------------------------------- 0.1/2.5 MB 456.6 kB/s eta 0:00:06\n",
      "   -- ------------------------------------- 0.1/2.5 MB 652.5 kB/s eta 0:00:04\n",
      "   ---- ----------------------------------- 0.3/2.5 MB 1.1 MB/s eta 0:00:02\n",
      "   ------- -------------------------------- 0.5/2.5 MB 1.6 MB/s eta 0:00:02\n",
      "   ----------- ---------------------------- 0.7/2.5 MB 1.9 MB/s eta 0:00:01\n",
      "   ------------ --------------------------- 0.8/2.5 MB 2.1 MB/s eta 0:00:01\n",
      "   -------------- ------------------------- 0.9/2.5 MB 2.1 MB/s eta 0:00:01\n",
      "   ------------------ --------------------- 1.1/2.5 MB 2.3 MB/s eta 0:00:01\n",
      "   -------------------- ------------------- 1.3/2.5 MB 2.3 MB/s eta 0:00:01\n",
      "   ---------------------- ----------------- 1.4/2.5 MB 2.4 MB/s eta 0:00:01\n",
      "   ------------------------ --------------- 1.6/2.5 MB 2.4 MB/s eta 0:00:01\n",
      "   ---------------------------- ----------- 1.8/2.5 MB 2.5 MB/s eta 0:00:01\n",
      "   ------------------------------ --------- 1.9/2.5 MB 2.6 MB/s eta 0:00:01\n",
      "   --------------------------------- ------ 2.1/2.5 MB 2.6 MB/s eta 0:00:01\n",
      "   ----------------------------------- ---- 2.2/2.5 MB 2.6 MB/s eta 0:00:01\n",
      "   ------------------------------------ --- 2.3/2.5 MB 2.6 MB/s eta 0:00:01\n",
      "   ---------------------------------------  2.5/2.5 MB 2.7 MB/s eta 0:00:01\n",
      "   ---------------------------------------- 2.5/2.5 MB 2.5 MB/s eta 0:00:00\n",
      "Installing collected packages: langchain_community\n",
      "  Attempting uninstall: langchain_community\n",
      "    Found existing installation: langchain-community 0.3.10\n",
      "    Uninstalling langchain-community-0.3.10:\n",
      "      Successfully uninstalled langchain-community-0.3.10\n",
      "Successfully installed langchain_community-0.3.13\n",
      "Requirement already satisfied: langchain_openai in c:\\users\\test\\anaconda3\\lib\\site-packages (0.2.11)\n",
      "Collecting langchain_openai\n",
      "  Downloading langchain_openai-0.2.14-py3-none-any.whl.metadata (2.7 kB)\n",
      "Requirement already satisfied: langchain-core<0.4.0,>=0.3.27 in c:\\users\\test\\anaconda3\\lib\\site-packages (from langchain_openai) (0.3.28)\n",
      "Collecting openai<2.0.0,>=1.58.1 (from langchain_openai)\n",
      "  Downloading openai-1.58.1-py3-none-any.whl.metadata (27 kB)\n",
      "Requirement already satisfied: tiktoken<1,>=0.7 in c:\\users\\test\\anaconda3\\lib\\site-packages (from langchain_openai) (0.7.0)\n",
      "Requirement already satisfied: PyYAML>=5.3 in c:\\users\\test\\anaconda3\\lib\\site-packages (from langchain-core<0.4.0,>=0.3.27->langchain_openai) (6.0.1)\n",
      "Requirement already satisfied: jsonpatch<2.0,>=1.33 in c:\\users\\test\\anaconda3\\lib\\site-packages (from langchain-core<0.4.0,>=0.3.27->langchain_openai) (1.33)\n",
      "Requirement already satisfied: langsmith<0.3,>=0.1.125 in c:\\users\\test\\anaconda3\\lib\\site-packages (from langchain-core<0.4.0,>=0.3.27->langchain_openai) (0.1.147)\n",
      "Requirement already satisfied: packaging<25,>=23.2 in c:\\users\\test\\anaconda3\\lib\\site-packages (from langchain-core<0.4.0,>=0.3.27->langchain_openai) (24.2)\n",
      "Requirement already satisfied: pydantic<3.0.0,>=2.5.2 in c:\\users\\test\\anaconda3\\lib\\site-packages (from langchain-core<0.4.0,>=0.3.27->langchain_openai) (2.8.2)\n",
      "Requirement already satisfied: tenacity!=8.4.0,<10.0.0,>=8.1.0 in c:\\users\\test\\anaconda3\\lib\\site-packages (from langchain-core<0.4.0,>=0.3.27->langchain_openai) (8.5.0)\n",
      "Requirement already satisfied: typing-extensions>=4.7 in c:\\users\\test\\anaconda3\\lib\\site-packages (from langchain-core<0.4.0,>=0.3.27->langchain_openai) (4.12.2)\n",
      "Requirement already satisfied: anyio<5,>=3.5.0 in c:\\users\\test\\anaconda3\\lib\\site-packages (from openai<2.0.0,>=1.58.1->langchain_openai) (4.2.0)\n",
      "Requirement already satisfied: distro<2,>=1.7.0 in c:\\users\\test\\anaconda3\\lib\\site-packages (from openai<2.0.0,>=1.58.1->langchain_openai) (1.8.0)\n",
      "Requirement already satisfied: httpx<1,>=0.23.0 in c:\\users\\test\\anaconda3\\lib\\site-packages (from openai<2.0.0,>=1.58.1->langchain_openai) (0.27.0)\n",
      "Requirement already satisfied: jiter<1,>=0.4.0 in c:\\users\\test\\anaconda3\\lib\\site-packages (from openai<2.0.0,>=1.58.1->langchain_openai) (0.5.0)\n",
      "Requirement already satisfied: sniffio in c:\\users\\test\\anaconda3\\lib\\site-packages (from openai<2.0.0,>=1.58.1->langchain_openai) (1.3.0)\n",
      "Requirement already satisfied: tqdm>4 in c:\\users\\test\\anaconda3\\lib\\site-packages (from openai<2.0.0,>=1.58.1->langchain_openai) (4.66.5)\n",
      "Requirement already satisfied: regex>=2022.1.18 in c:\\users\\test\\anaconda3\\lib\\site-packages (from tiktoken<1,>=0.7->langchain_openai) (2023.10.3)\n",
      "Requirement already satisfied: requests>=2.26.0 in c:\\users\\test\\anaconda3\\lib\\site-packages (from tiktoken<1,>=0.7->langchain_openai) (2.31.0)\n",
      "Requirement already satisfied: idna>=2.8 in c:\\users\\test\\anaconda3\\lib\\site-packages (from anyio<5,>=3.5.0->openai<2.0.0,>=1.58.1->langchain_openai) (3.4)\n",
      "Requirement already satisfied: certifi in c:\\users\\test\\anaconda3\\lib\\site-packages (from httpx<1,>=0.23.0->openai<2.0.0,>=1.58.1->langchain_openai) (2024.7.4)\n",
      "Requirement already satisfied: httpcore==1.* in c:\\users\\test\\anaconda3\\lib\\site-packages (from httpx<1,>=0.23.0->openai<2.0.0,>=1.58.1->langchain_openai) (1.0.5)\n",
      "Requirement already satisfied: h11<0.15,>=0.13 in c:\\users\\test\\anaconda3\\lib\\site-packages (from httpcore==1.*->httpx<1,>=0.23.0->openai<2.0.0,>=1.58.1->langchain_openai) (0.14.0)\n",
      "Requirement already satisfied: jsonpointer>=1.9 in c:\\users\\test\\anaconda3\\lib\\site-packages (from jsonpatch<2.0,>=1.33->langchain-core<0.4.0,>=0.3.27->langchain_openai) (2.1)\n",
      "Requirement already satisfied: orjson<4.0.0,>=3.9.14 in c:\\users\\test\\anaconda3\\lib\\site-packages (from langsmith<0.3,>=0.1.125->langchain-core<0.4.0,>=0.3.27->langchain_openai) (3.10.6)\n",
      "Requirement already satisfied: requests-toolbelt<2.0.0,>=1.0.0 in c:\\users\\test\\anaconda3\\lib\\site-packages (from langsmith<0.3,>=0.1.125->langchain-core<0.4.0,>=0.3.27->langchain_openai) (1.0.0)\n",
      "Requirement already satisfied: annotated-types>=0.4.0 in c:\\users\\test\\anaconda3\\lib\\site-packages (from pydantic<3.0.0,>=2.5.2->langchain-core<0.4.0,>=0.3.27->langchain_openai) (0.7.0)\n",
      "Requirement already satisfied: pydantic-core==2.20.1 in c:\\users\\test\\anaconda3\\lib\\site-packages (from pydantic<3.0.0,>=2.5.2->langchain-core<0.4.0,>=0.3.27->langchain_openai) (2.20.1)\n",
      "Requirement already satisfied: charset-normalizer<4,>=2 in c:\\users\\test\\anaconda3\\lib\\site-packages (from requests>=2.26.0->tiktoken<1,>=0.7->langchain_openai) (2.0.4)\n",
      "Requirement already satisfied: urllib3<3,>=1.21.1 in c:\\users\\test\\anaconda3\\lib\\site-packages (from requests>=2.26.0->tiktoken<1,>=0.7->langchain_openai) (2.0.7)\n",
      "Requirement already satisfied: colorama in c:\\users\\test\\anaconda3\\lib\\site-packages (from tqdm>4->openai<2.0.0,>=1.58.1->langchain_openai) (0.4.6)\n",
      "Downloading langchain_openai-0.2.14-py3-none-any.whl (50 kB)\n",
      "   ---------------------------------------- 0.0/50.9 kB ? eta -:--:--\n",
      "   ------------------------ --------------- 30.7/50.9 kB 1.3 MB/s eta 0:00:01\n",
      "   ---------------------------------------- 50.9/50.9 kB 645.0 kB/s eta 0:00:00\n",
      "Downloading openai-1.58.1-py3-none-any.whl (454 kB)\n",
      "   ---------------------------------------- 0.0/454.3 kB ? eta -:--:--\n",
      "   ---------- ----------------------------- 122.9/454.3 kB 2.4 MB/s eta 0:00:01\n",
      "   ------------------- -------------------- 225.3/454.3 kB 2.8 MB/s eta 0:00:01\n",
      "   ----------------------------- ---------- 337.9/454.3 kB 3.0 MB/s eta 0:00:01\n",
      "   ---------------------------------------  450.6/454.3 kB 2.6 MB/s eta 0:00:01\n",
      "   ---------------------------------------- 454.3/454.3 kB 1.9 MB/s eta 0:00:00\n",
      "Installing collected packages: openai, langchain_openai\n",
      "  Attempting uninstall: openai\n",
      "    Found existing installation: openai 1.56.1\n",
      "    Uninstalling openai-1.56.1:\n",
      "      Successfully uninstalled openai-1.56.1\n",
      "  Attempting uninstall: langchain_openai\n",
      "    Found existing installation: langchain-openai 0.2.11\n",
      "    Uninstalling langchain-openai-0.2.11:\n",
      "      Successfully uninstalled langchain-openai-0.2.11\n",
      "Successfully installed langchain_openai-0.2.14 openai-1.58.1\n",
      "Requirement already satisfied: faiss-cpu in c:\\users\\test\\anaconda3\\lib\\site-packages (1.8.0.post1)\n",
      "Requirement already satisfied: numpy<2.0,>=1.0 in c:\\users\\test\\anaconda3\\lib\\site-packages (from faiss-cpu) (1.26.4)\n",
      "Requirement already satisfied: packaging in c:\\users\\test\\anaconda3\\lib\\site-packages (from faiss-cpu) (24.2)\n",
      "Requirement already satisfied: pypdf in c:\\users\\test\\anaconda3\\lib\\site-packages (4.3.1)\n"
     ]
    }
   ],
   "source": [
    "!pip install -U langchain\n",
    "!pip install -U langchain_community\n",
    "!pip install -U langchain_openai\n",
    "!pip install faiss-cpu\n",
    "!pip install pypdf"
   ]
  },
  {
   "cell_type": "code",
   "execution_count": 1,
   "id": "13af37ce-d630-4896-88f9-5ac23c0b6746",
   "metadata": {},
   "outputs": [],
   "source": [
    "## Fetching the openai key \n",
    "import os\n",
    "import openai\n",
    "openai.api_key = open(\"C:/Users/test/Desktop/ArMan/02 _ Manasa Documents/Educarion/AiI-ML 2023/NLP/Gen AI/OPENAI_API_Key.txt\", \"r\").read().strip()\n",
    "os.environ['OPENAI_API_KEY'] = openai.api_key"
   ]
  },
  {
   "cell_type": "code",
   "execution_count": 2,
   "id": "306cdcb6-82a7-4082-a967-71c2b1bbfd6e",
   "metadata": {},
   "outputs": [],
   "source": [
    "## Fetching the document \n",
    "from langchain_community.document_loaders import PyPDFLoader\n",
    "pdfloader = PyPDFLoader(\"C:/Users/test/Desktop/ArMan/02 _ Manasa Documents/Educarion/AiI-ML 2023/NLP/NLP Syntactic Processing/SyntacticProcessing.pdf\")\n",
    "pdfpages = pdfloader.load_and_split()\n",
    "\n",
    "from langchain.text_splitter import CharacterTextSplitter\n",
    "from langchain_community.vectorstores import FAISS\n",
    "from langchain_openai.embeddings import OpenAIEmbeddings"
   ]
  },
  {
   "cell_type": "code",
   "execution_count": 3,
   "id": "ea404901-7fbb-4fbe-abb6-9c635a465078",
   "metadata": {},
   "outputs": [],
   "source": [
    "## Document preperation\n",
    "## Loading the documents using build in extractors, formatters, loaders, embeddings and LLMs in langchain\n",
    "mydocuments = pdfloader.load()\n",
    "text_splitter = CharacterTextSplitter(chunk_size = 1000, chunk_overlap = 0)\n",
    "texts = text_splitter.split_documents(mydocuments)\n",
    "\n",
    "#Using openAI default embedding model\n",
    "embeddings = OpenAIEmbeddings()\n",
    "\n",
    "# Interacting with FAISS using API functions in langchain\n",
    "db = FAISS.from_documents(texts,embeddings)"
   ]
  },
  {
   "cell_type": "code",
   "execution_count": 4,
   "id": "42a79d1c-da86-410e-b35f-99be3c31a234",
   "metadata": {},
   "outputs": [
    {
     "data": {
      "text/plain": [
       "<langchain_community.vectorstores.faiss.FAISS at 0x1efc700bb90>"
      ]
     },
     "execution_count": 4,
     "metadata": {},
     "output_type": "execute_result"
    }
   ],
   "source": [
    "db"
   ]
  },
  {
   "cell_type": "code",
   "execution_count": 5,
   "id": "c133d23c-5689-4244-8754-87f728115aa9",
   "metadata": {},
   "outputs": [],
   "source": [
    "#Using langchain retriever\n",
    "\n",
    "from langchain_core.tools import create_retriever_tool\n",
    "retriever = db.as_retriever()\n",
    "tool = create_retriever_tool(\n",
    "    retriever,\n",
    "    name = \"Biomedical_Retriever\",\n",
    "    description=\"Searches and retrieves documents related to Biomedical based on famous book by author Khandpur\"\n",
    ")\n",
    "tools = [tool]\n",
    "\n",
    "#Wrapping LLM with conversational agents\n",
    "\n",
    "from langchain.agents.agent_toolkits import create_conversational_retrieval_agent\n",
    "\n",
    "# API by langchain to interact with chatmodels\n",
    "from langchain_openai.chat_models import ChatOpenAI\n",
    "llm = ChatOpenAI(temperature=0)\n",
    "agent_executor = create_conversational_retrieval_agent(llm, tools, verbose=True)"
   ]
  },
  {
   "cell_type": "code",
   "execution_count": 6,
   "id": "83422ad1-9a18-4a04-a96b-7f9f984c63ec",
   "metadata": {},
   "outputs": [],
   "source": [
    "from langchain.chains import RetrievalQA\n",
    "from langchain.prompts import PromptTemplate\n",
    "\n",
    "# Define the custom prompt\n",
    "custom_prompt = PromptTemplate(\n",
    "    template=\"\"\"You are an expert assistant who answers questions strictly based on the information provided in a document. \n",
    "\n",
    "Guidelines:\n",
    "1. If the question can be answered using the document, provide a concise, accurate response.\n",
    "2. If the question cannot be answered using the document or is unrelated, respond with: \n",
    "   \"I'm sorry, the response to the query is not available at the moment.Please refine the question or contact the concerned department.\"\n",
    "\n",
    "Document: {context}\n",
    "\n",
    "Question: {question}\n",
    "\n",
    "Answer:\"\"\",\n",
    "    input_variables=[\"context\", \"question\"],\n",
    ")\n",
    "\n",
    "llm = ChatOpenAI(temperature=0)\n",
    "# Configure the retrieval-based QA chain\n",
    "qa_chain = RetrievalQA.from_chain_type(\n",
    "    llm = llm,  \n",
    "    retriever=retriever,  \n",
    "    chain_type_kwargs={\"prompt\": custom_prompt},\n",
    ")\n"
   ]
  },
  {
   "cell_type": "code",
   "execution_count": 7,
   "id": "9fb17a74-b10e-4b3b-a396-67c7ecacd985",
   "metadata": {},
   "outputs": [
    {
     "ename": "NameError",
     "evalue": "name 'input' is not defined",
     "output_type": "error",
     "traceback": [
      "\u001b[1;31m---------------------------------------------------------------------------\u001b[0m",
      "\u001b[1;31mNameError\u001b[0m                                 Traceback (most recent call last)",
      "Cell \u001b[1;32mIn[7], line 1\u001b[0m\n\u001b[1;32m----> 1\u001b[0m \u001b[38;5;28;01mdel\u001b[39;00m \u001b[38;5;28minput\u001b[39m\n",
      "\u001b[1;31mNameError\u001b[0m: name 'input' is not defined"
     ]
    }
   ],
   "source": [
    "del input"
   ]
  },
  {
   "cell_type": "code",
   "execution_count": 7,
   "id": "0dc9361f-db97-4feb-b212-898a11551da5",
   "metadata": {},
   "outputs": [
    {
     "name": "stdout",
     "output_type": "stream",
     "text": [
      "Welcome to chatbot MedXionic.AI! Ask me anything related to our current Product Development. Type 'exit' to quit.\n"
     ]
    },
    {
     "name": "stdin",
     "output_type": "stream",
     "text": [
      "You:  what is the meaning of Parsing?\n"
     ]
    },
    {
     "name": "stderr",
     "output_type": "stream",
     "text": [
      "C:\\Users\\test\\AppData\\Local\\Temp\\ipykernel_17264\\1296213475.py:24: LangChainDeprecationWarning: The method `Chain.run` was deprecated in langchain 0.1.0 and will be removed in 1.0. Use :meth:`~invoke` instead.\n",
      "  response = qa_chain.run(full_context)\n"
     ]
    },
    {
     "name": "stdout",
     "output_type": "stream",
     "text": [
      "Response: Syntactic analysis or parsing may be defined as the process of analysing the strings of symbols in natural language conforming to the rules of formal grammar.\n"
     ]
    },
    {
     "name": "stdin",
     "output_type": "stream",
     "text": [
      "You:  How is syntactic processing different from semantic processing?\n"
     ]
    },
    {
     "name": "stdout",
     "output_type": "stream",
     "text": [
      "Response: I'm sorry, the response to the query is not available at the moment. Please refine the question or contact the concerned department.\n"
     ]
    },
    {
     "name": "stdin",
     "output_type": "stream",
     "text": [
      "You:  exit\n"
     ]
    },
    {
     "name": "stdout",
     "output_type": "stream",
     "text": [
      "Have a nice day! Hope to assist you again soon!\n"
     ]
    }
   ],
   "source": [
    "print(\"Welcome to chatbot MedXionic.AI! Ask me anything related to our current Product Development. Type 'exit' to quit.\")\n",
    "\n",
    "# Initialize chat history\n",
    "chat_history = []\n",
    "\n",
    "while True:\n",
    "    # Get user input\n",
    "    user_query = input(\"You: \")\n",
    "    \n",
    "    # Check for exit condition\n",
    "    if user_query.lower() in [\"exit\", \"quit\"]:\n",
    "        print(\"Have a nice day! Hope to assist you again soon!\")\n",
    "        break\n",
    "\n",
    "    # Format the chat history for context\n",
    "    history_context = \"\\n\".join(\n",
    "        [f\"User: {entry['user']}\\nBot: {entry['bot']}\" for entry in chat_history]\n",
    "    )\n",
    "    \n",
    "    # Combine history with the new question\n",
    "    full_context = f\"{history_context}\\nUser: {user_query}\\nBot:\"\n",
    "    \n",
    "    # Get the response from the QA chain\n",
    "    response = qa_chain.run(full_context)\n",
    "\n",
    "    # Add the exchange to the history\n",
    "    chat_history.append({\"user\": user_query, \"bot\": response})\n",
    "\n",
    "    # Print the response\n",
    "    print(\"Response:\", response)\n"
   ]
  },
  {
   "cell_type": "code",
   "execution_count": null,
   "id": "900b49fc-1ea8-44d8-8d3b-253419575081",
   "metadata": {},
   "outputs": [],
   "source": []
  }
 ],
 "metadata": {
  "kernelspec": {
   "display_name": "Python 3 (ipykernel)",
   "language": "python",
   "name": "python3"
  },
  "language_info": {
   "codemirror_mode": {
    "name": "ipython",
    "version": 3
   },
   "file_extension": ".py",
   "mimetype": "text/x-python",
   "name": "python",
   "nbconvert_exporter": "python",
   "pygments_lexer": "ipython3",
   "version": "3.11.7"
  }
 },
 "nbformat": 4,
 "nbformat_minor": 5
}
